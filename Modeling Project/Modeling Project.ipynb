{
 "cells": [
  {
   "cell_type": "markdown",
   "id": "ada5fd8b-21d7-434b-a430-5faaa65fb9c5",
   "metadata": {},
   "source": [
    "# GEOS 518 - Modeling Project\n",
    "## Sarah Jones, 12/12/2021\n",
    "\n",
    "### 1. Introduction\n",
    "\n",
    "( Describe scientific or engineering challenge for which the model will be used. The problem should be contemporary or have context which makes an old problem contemporary. _250-500 words_)\n",
    "\n",
    "\n",
    "\n",
    "### 2. Model Description\n",
    "\n",
    "( Describe the model being profiled or examined. The description should be accurate and clearly link to processes overviewed in the class. You should present previous uses of the model for applications similar to those described in the introduction and cite those studies. Where possible, include a conceptual figure of the model, ensuring to cite it appropriately if it is not your original work. _500-1000 words_)\n",
    "\n",
    "The model being profiled is the Nucleus for European Modelling of the Ocean (NEMO) model. It is an open source, open access model comprised of three major components called NEMO-OCE, NEMO-SI3, and NEMO-TOP. The NEMO-OCE component models ocean thermodynamics and solves primitive equations; the NEMO-SI3 component models sea-ice thermodynamics, brine inclusions and subgrid-scale thickness variations; the NEMO-TOP component models the on- and off-line oceanic tracers transport and the biogeochemical properties using the PISCES model [^1]. The model can also be coupled with a variety of other existing models to simulate environmental coupling of the ocean and other environments (like the atmosphere for example).\n",
    "\n",
    "The NEMO-OCE component is the base component of the model and solves a number of different equations but is based on the momentum balance and heat and salt conservation equations. The NEMO-OCE component also models advection and diffusion of a number of different 'tracers' and implements some of the same solution schemes that we covered in class, such as a centered advection scheme and a QUICKEST scheme. The state equations for the NEMO-OCE component include the Equation of Seawater (EOS), the Brunt-Vaisalla frequency, and the freezing point of seawater [^2].\n",
    "\n",
    "\n",
    "### 3. Data Needs\n",
    "\n",
    "( Provide an overview of the data required as input to the model and the output data variables and the data format. If possible or appropriate based on themodel, provide specific references to appropriate sources of input datasets. If multiple alternative input datasets are mentioned, include a brief compare and contrast of these datasets. _300-600 words_)\n",
    "\n",
    "\n",
    "### 4. Calibration\n",
    "\n",
    "\n",
    "\n",
    "\n",
    "### 5. Numerical Experiment Design\n",
    "\n",
    "\n",
    "### 6. References\n",
    "\n",
    "[^1]: The NEMO Sea Ice Working Group, 2018: SI3 – Sea Ice modelling Integrated\n",
    "Initiative – The NEMO Sea Ice Engine, Note du Pole de mod ˆ elisation ´ , Institut\n",
    "Pierre-Simon Laplace (IPSL), France, No XX, ISSN No 1288-1619.\n",
    "\n",
    "[^2]: “NEMO ocean engine”, Scientific Notes of Climate Modelling Center, 27 — ISSN 1288-1619, Institut Pierre-Simon\n",
    "Laplace (IPSL), doi:10.5281/zenodo.1464816\n",
    "\n",
    "[^3] Morioka, Y., Doi, T., Iovino, D. et al. Role of sea-ice initialization in climate predictability over the Weddell Sea. Sci Rep 9, 2457 (2019). https://doi.org/10.1038/s41598-019-39421-w\n",
    "\n",
    "4. Thermodynamics of Sea Ice Phase Composition Revisited https://doi.org/10.1029/2018JC014611\n",
    "\n",
    "5. https://www.nemo-ocean.eu/doc/node4.html\n",
    "\n",
    "6. https://www.cmcc.it/models/nemo\n"
   ]
  },
  {
   "cell_type": "markdown",
   "id": "499b0a1c-8c3f-44fe-b379-943355cf3bd8",
   "metadata": {},
   "source": []
  },
  {
   "cell_type": "code",
   "execution_count": null,
   "id": "18b3f291-a3b9-4dfb-95d4-0ac1e5c8eb53",
   "metadata": {},
   "outputs": [],
   "source": []
  }
 ],
 "metadata": {
  "kernelspec": {
   "display_name": "Python 3",
   "language": "python",
   "name": "python3"
  },
  "language_info": {
   "codemirror_mode": {
    "name": "ipython",
    "version": 3
   },
   "file_extension": ".py",
   "mimetype": "text/x-python",
   "name": "python",
   "nbconvert_exporter": "python",
   "pygments_lexer": "ipython3",
   "version": "3.8.11"
  }
 },
 "nbformat": 4,
 "nbformat_minor": 5
}
