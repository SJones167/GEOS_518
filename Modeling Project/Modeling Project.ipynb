{
 "cells": [
  {
   "cell_type": "markdown",
   "id": "ada5fd8b-21d7-434b-a430-5faaa65fb9c5",
   "metadata": {},
   "source": [
    "# GEOS 518 - Modeling Project, FALL 2020\n",
    "### Sarah Jones, 12/12/2021\n",
    "\n",
    "## I. Introduction\n",
    "\n",
    "\n",
    "\n",
    "\n",
    "## II. Model Description\n",
    "\n",
    "The model being profiled is the Nucleus for European Modelling of the Ocean (NEMO) model that is developed by the NEMO Consortium which was established in 2008 and pulls together 5 European institutions (CMCC, CNRS, Mercator, Met-Office, NOC). The NEMO model is an open source, open access model comprised of three major components called NEMO-OCE, NEMO-SI3, and NEMO-TOP. The NEMO-OCE component models ocean thermodynamics and solves primitive equations; the NEMO-SI3 component models sea-ice thermodynamics, brine inclusions and subgrid-scale thickness variations; the NEMO-TOP component models the on- and off-line oceanic tracers transport and the biogeochemical properties using the PISCES model [1]. The model can also be coupled with a variety of other existing models (like the WRF model) to simulate environmental coupling of the ocean and other environments (like the atmosphere).\n",
    "\n",
    "The NEMO-OCE component is the base component of the model and solves a number of different equations but is based on the momentum balance and heat and salt conservation equations. The NEMO-OCE component also models advection and diffusion of a number of different tracers and implements some of the same solution schemes that we covered in class, such as a centered advection scheme and a QUICKEST scheme. The state equations for the NEMO-OCE component include the Equation of Seawater (EOS), the Brunt-Vaisala frequency, and the freezing point of seawater [2].\n",
    "\n",
    "__Equation of Seawater (EOS)__\n",
    "\n",
    "![Equation of Seawater]()\n",
    "\n",
    "__Brunt-Vaisala Frequency__\n",
    "![Brunt-Vaisala Frequency](Modeling Project/img/Brunt-Vaisala_Freq.JPG)\n",
    "\n",
    "__Freezing Point of Seawater__\n",
    "![Freezing Point of Seawater]()\n",
    "\n",
    "\n",
    "## III. Data Needs\n",
    "\n",
    "\n",
    "\n",
    "\n",
    "## IV. Calibration\n",
    "\n",
    "\n",
    "\n",
    "\n",
    "## V. Numerical Experiment Design\n",
    "\n",
    "\n",
    "## VI. References\n",
    "\n",
    "1. The NEMO Sea Ice Working Group, 2018: SI3 – Sea Ice modelling Integrated\n",
    "Initiative – The NEMO Sea Ice Engine, Note du Pole de mod ˆ elisation ´ , Institut\n",
    "Pierre-Simon Laplace (IPSL), France, No XX, ISSN No 1288-1619.\n",
    "\n",
    "2. “NEMO ocean engine”, Scientific Notes of Climate Modelling Center, 27 — ISSN 1288-1619, Institut Pierre-Simon\n",
    "Laplace (IPSL), doi:10.5281/zenodo.1464816\n",
    "\n",
    "3. Morioka, Y., Doi, T., Iovino, D. et al. Role of sea-ice initialization in climate predictability over the Weddell Sea. Sci Rep 9, 2457 (2019). https://doi.org/10.1038/s41598-019-39421-w\n",
    "\n",
    "4. Thermodynamics of Sea Ice Phase Composition Revisited https://doi.org/10.1029/2018JC014611\n",
    "\n",
    "5. https://www.nemo-ocean.eu/doc/node4.html\n",
    "\n",
    "6. https://www.cmcc.it/models/nemo\n"
   ]
  },
  {
   "cell_type": "markdown",
   "id": "499b0a1c-8c3f-44fe-b379-943355cf3bd8",
   "metadata": {},
   "source": []
  },
  {
   "cell_type": "code",
   "execution_count": null,
   "id": "18b3f291-a3b9-4dfb-95d4-0ac1e5c8eb53",
   "metadata": {},
   "outputs": [],
   "source": []
  }
 ],
 "metadata": {
  "kernelspec": {
   "display_name": "Python 3",
   "language": "python",
   "name": "python3"
  },
  "language_info": {
   "codemirror_mode": {
    "name": "ipython",
    "version": 3
   },
   "file_extension": ".py",
   "mimetype": "text/x-python",
   "name": "python",
   "nbconvert_exporter": "python",
   "pygments_lexer": "ipython3",
   "version": "3.8.11"
  }
 },
 "nbformat": 4,
 "nbformat_minor": 5
}
